{
 "cells": [
  {
   "cell_type": "code",
   "execution_count": 4,
   "id": "e49b7cac",
   "metadata": {},
   "outputs": [
    {
     "name": "stdout",
     "output_type": "stream",
     "text": [
      "Enter the Size of list Element : 5\n",
      "Enter the number of elements :1\n",
      "Enter the number of elements :2\n",
      "Enter the number of elements :3\n",
      "Enter the number of elements :4\n",
      "Enter the number of elements :5\n",
      "[1, 2, 3, 4, 5]\n",
      "[1, 2, 3]\n"
     ]
    }
   ],
   "source": [
    "#1. Write a Python program that takes a list as input and returns the first three elements using list slicing.\n",
    "\n",
    "size=int(input(\"Enter the Size of list Element : \"))\n",
    "\n",
    "list=[]\n",
    "\n",
    "for i in range(size):\n",
    "    num=int(input(\"Enter the number of elements :\"))\n",
    "    \n",
    "    list.append(num)\n",
    "    s=list[0:3]\n",
    "print(list)\n",
    "print(s)\n",
    "\n",
    "\n",
    "\n"
   ]
  },
  {
   "cell_type": "code",
   "execution_count": 10,
   "id": "3350f9c4",
   "metadata": {},
   "outputs": [
    {
     "name": "stdout",
     "output_type": "stream",
     "text": [
      "[70, 80]\n"
     ]
    }
   ],
   "source": [
    "#2.Write a Python program that takes a list as input and returns the last two elements using list slicing.\n",
    "\n",
    "my_list=[10,20,30,40,50,60,70,80]\n",
    "print(my_list[-2:])"
   ]
  },
  {
   "cell_type": "code",
   "execution_count": 14,
   "id": "566ffd7f",
   "metadata": {},
   "outputs": [
    {
     "name": "stdout",
     "output_type": "stream",
     "text": [
      "[70, 60, 50, 40, 30, 20, 10]\n"
     ]
    }
   ],
   "source": [
    "#3.Write a Python program that takes a list as input and returns the elements in reverse order usinglist slicing.\n",
    "\n",
    "my_list=[10,20,30,40,50,60,70]\n",
    "print(my_list[::-1])"
   ]
  },
  {
   "cell_type": "code",
   "execution_count": 17,
   "id": "5f77eb88",
   "metadata": {},
   "outputs": [
    {
     "name": "stdout",
     "output_type": "stream",
     "text": [
      "(10, 20, 30, 40)\n",
      "30\n"
     ]
    }
   ],
   "source": [
    "#4.Write a program that takes a tuple as input and retrieves the element at a index 2.\n",
    "\n",
    "my_tuple=(10,20,30,40)\n",
    "print(my_tuple)\n",
    "print(my_tuple[-2])"
   ]
  },
  {
   "cell_type": "code",
   "execution_count": 20,
   "id": "d3ccd10e",
   "metadata": {},
   "outputs": [
    {
     "name": "stdout",
     "output_type": "stream",
     "text": [
      "(1, 2, 3, 4, 5, 6, 7, 8, 9, 10)\n"
     ]
    }
   ],
   "source": [
    "#5.Write a program that takes two tuples as input and creates a new tuple that contains all the elements from both input tuples.\n",
    "tuple1=(1,2,3,4,5)\n",
    "tuple2=(6,7,8,9,10)\n",
    "new_tuple=(tuple1+tuple2)\n",
    "print(new_tuple)\n",
    "\n"
   ]
  },
  {
   "cell_type": "code",
   "execution_count": 2,
   "id": "47b34391",
   "metadata": {},
   "outputs": [
    {
     "name": "stdout",
     "output_type": "stream",
     "text": [
      "(4, 5, 6)\n",
      "15\n"
     ]
    }
   ],
   "source": [
    "#6.Write a program that takes a tuple as input and unpacks its elements into individual variables.\n",
    "\n",
    "tuplex=4,5,6\n",
    "print(tuplex)\n",
    "\n",
    "n1,n2,n3= tuplex\n",
    "print(n1+n2+n3)"
   ]
  },
  {
   "cell_type": "code",
   "execution_count": 4,
   "id": "553a1b7d",
   "metadata": {},
   "outputs": [
    {
     "name": "stdout",
     "output_type": "stream",
     "text": [
      "The union number is : {1, 2, 3, 4, 5, 6, 7, 8, 15}\n"
     ]
    }
   ],
   "source": [
    "# 7.Write a Python program that takes two sets and prints their union.\n",
    "myset1={1,2,3,4,5}\n",
    "myset2={15,6,7,8}\n",
    "print(f'The union number is : {myset1|myset2}')\n"
   ]
  },
  {
   "cell_type": "code",
   "execution_count": 5,
   "id": "5fff41c6",
   "metadata": {},
   "outputs": [
    {
     "name": "stdout",
     "output_type": "stream",
     "text": [
      "The intersection number is : {5, 6, 7}\n"
     ]
    }
   ],
   "source": [
    "# 8.Write a Python program that takes two sets and prints their intersection.\n",
    "\n",
    "myset1={1,2,3,4,5,6,7,8}\n",
    "myset2={5,6,7}\n",
    "print(f'The intersection number is : {myset1.intersection(myset2)}')"
   ]
  },
  {
   "cell_type": "code",
   "execution_count": 6,
   "id": "5841fcac",
   "metadata": {},
   "outputs": [
    {
     "name": "stdout",
     "output_type": "stream",
     "text": [
      "The intersection number is : {1, 2, 3, 4, 8}\n"
     ]
    }
   ],
   "source": [
    "#9.Write a Python program that takes two sets and prints the difference between the first set and the second set.\n",
    "\n",
    "myset1={1,2,3,4,5,6,7,8}\n",
    "myset2={5,6,7}\n",
    "print(f'The intersection number is : {myset1.difference(myset2)}')"
   ]
  },
  {
   "cell_type": "code",
   "execution_count": null,
   "id": "a5dd9140",
   "metadata": {},
   "outputs": [],
   "source": [
    "#10.Write a Python program that takes two sets and determines whether the first set is a subset of the second set."
   ]
  }
 ],
 "metadata": {
  "kernelspec": {
   "display_name": "Python 3 (ipykernel)",
   "language": "python",
   "name": "python3"
  },
  "language_info": {
   "codemirror_mode": {
    "name": "ipython",
    "version": 3
   },
   "file_extension": ".py",
   "mimetype": "text/x-python",
   "name": "python",
   "nbconvert_exporter": "python",
   "pygments_lexer": "ipython3",
   "version": "3.9.13"
  }
 },
 "nbformat": 4,
 "nbformat_minor": 5
}
